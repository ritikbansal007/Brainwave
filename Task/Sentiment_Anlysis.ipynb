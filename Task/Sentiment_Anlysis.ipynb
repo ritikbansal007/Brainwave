{
  "nbformat": 4,
  "nbformat_minor": 0,
  "metadata": {
    "colab": {
      "provenance": []
    },
    "kernelspec": {
      "name": "python3",
      "display_name": "Python 3"
    },
    "language_info": {
      "name": "python"
    }
  },
  "cells": [
    {
      "cell_type": "code",
      "source": [
        "!pip install vaderSentiment"
      ],
      "metadata": {
        "colab": {
          "base_uri": "https://localhost:8080/"
        },
        "id": "FWos74OfufdS",
        "outputId": "4e7b5798-db36-4b13-c60b-b1d191fe2429"
      },
      "execution_count": 2,
      "outputs": [
        {
          "output_type": "stream",
          "name": "stdout",
          "text": [
            "Collecting vaderSentiment\n",
            "  Downloading vaderSentiment-3.3.2-py2.py3-none-any.whl (125 kB)\n",
            "\u001b[?25l     \u001b[90m━━━━━━━━━━━━━━━━━━━━━━━━━━━━━━━━━━━━━━━━\u001b[0m \u001b[32m0.0/126.0 kB\u001b[0m \u001b[31m?\u001b[0m eta \u001b[36m-:--:--\u001b[0m\r\u001b[2K     \u001b[90m━━━━━━━━━━━━━━━━━━━━━━━━━━━━━━━━━━━━━━━━\u001b[0m \u001b[32m126.0/126.0 kB\u001b[0m \u001b[31m4.0 MB/s\u001b[0m eta \u001b[36m0:00:00\u001b[0m\n",
            "\u001b[?25hRequirement already satisfied: requests in /usr/local/lib/python3.10/dist-packages (from vaderSentiment) (2.31.0)\n",
            "Requirement already satisfied: charset-normalizer<4,>=2 in /usr/local/lib/python3.10/dist-packages (from requests->vaderSentiment) (3.3.2)\n",
            "Requirement already satisfied: idna<4,>=2.5 in /usr/local/lib/python3.10/dist-packages (from requests->vaderSentiment) (3.7)\n",
            "Requirement already satisfied: urllib3<3,>=1.21.1 in /usr/local/lib/python3.10/dist-packages (from requests->vaderSentiment) (2.0.7)\n",
            "Requirement already satisfied: certifi>=2017.4.17 in /usr/local/lib/python3.10/dist-packages (from requests->vaderSentiment) (2024.6.2)\n",
            "Installing collected packages: vaderSentiment\n",
            "Successfully installed vaderSentiment-3.3.2\n"
          ]
        }
      ]
    },
    {
      "cell_type": "code",
      "execution_count": 22,
      "metadata": {
        "colab": {
          "base_uri": "https://localhost:8080/",
          "height": 1000
        },
        "id": "pDWUxZYtNoyf",
        "outputId": "9c70c44c-64d3-4020-963e-817ab423e10e"
      },
      "outputs": [
        {
          "output_type": "stream",
          "name": "stdout",
          "text": [
            "   2401  Borderlands  Positive  \\\n",
            "0  2401  Borderlands  Positive   \n",
            "1  2401  Borderlands  Positive   \n",
            "2  2401  Borderlands  Positive   \n",
            "3  2401  Borderlands  Positive   \n",
            "4  2401  Borderlands  Positive   \n",
            "\n",
            "  im getting on borderlands and i will murder you all ,  \n",
            "0  I am coming to the borders and I will kill you...     \n",
            "1  im getting on borderlands and i will kill you ...     \n",
            "2  im coming on borderlands and i will murder you...     \n",
            "3  im getting on borderlands 2 and i will murder ...     \n",
            "4  im getting into borderlands and i can murder y...     \n",
            "Index(['2401', 'Borderlands', 'Positive',\n",
            "       'im getting on borderlands and i will murder you all ,'],\n",
            "      dtype='object')\n"
          ]
        },
        {
          "output_type": "stream",
          "name": "stderr",
          "text": [
            "[nltk_data] Downloading package stopwords to /root/nltk_data...\n",
            "[nltk_data]   Package stopwords is already up-to-date!\n",
            "[nltk_data] Downloading package punkt to /root/nltk_data...\n",
            "[nltk_data]   Package punkt is already up-to-date!\n",
            "[nltk_data] Downloading package wordnet to /root/nltk_data...\n",
            "[nltk_data]   Package wordnet is already up-to-date!\n"
          ]
        },
        {
          "output_type": "stream",
          "name": "stdout",
          "text": [
            "                   processed_text  sentiment_score\n",
            "0          I coming border I kill          -0.6908\n",
            "1      im getting borderland kill          -0.6908\n",
            "2     im coming borderland murder          -0.6908\n",
            "3  im getting borderland 2 murder          -0.6908\n",
            "4    im getting borderland murder          -0.6908\n"
          ]
        },
        {
          "output_type": "display_data",
          "data": {
            "text/plain": [
              "<Figure size 1200x600 with 1 Axes>"
            ],
            "image/png": "[encoded data removed]"
          },
          "metadata": {}
        },
        {
          "output_type": "stream",
          "name": "stdout",
          "text": [
            "\n",
            "Positive examples:\n",
            "                                       processed_text  sentiment_score\n",
            "5  So I spent hour making something fun If know I...           0.9534\n",
            "6  So I spent couple hour something fun If know I...           0.9485\n",
            "7  So I spent hour something fun If know I HUGE B...           0.8918\n",
            "8  So I spent hour making something fun If know I...           0.9534\n",
            "9  2010 So I spent hour making something fun If k...           0.9534\n",
            "\n",
            "Negative examples:\n",
            "                    processed_text  sentiment_score\n",
            "0          I coming border I kill          -0.6908\n",
            "1      im getting borderland kill          -0.6908\n",
            "2     im coming borderland murder          -0.6908\n",
            "3  im getting borderland 2 murder          -0.6908\n",
            "4    im getting borderland murder          -0.6908\n",
            "\n",
            "Neutral examples:\n",
            "            processed_text  sentiment_score\n",
            "10                                     0.0\n",
            "41    Check epic streamer              0.0\n",
            "42    Check epic streamer              0.0\n",
            "43  Watch epic striptease              0.0\n",
            "44    Check epic streamer              0.0\n"
          ]
        }
      ],
      "source": [
        "import pandas as pd\n",
        "import re\n",
        "from nltk.corpus import stopwords\n",
        "from nltk.tokenize import word_tokenize\n",
        "from nltk.stem import WordNetLemmatizer\n",
        "import nltk\n",
        "from vaderSentiment.vaderSentiment import SentimentIntensityAnalyzer\n",
        "import matplotlib.pyplot as plt\n",
        "\n",
        "# Load the dataset\n",
        "file_path = '/content/drive/MyDrive/Prodigy Datasets/Twitter /twitter_training.csv'\n",
        "df = pd.read_csv(file_path)\n",
        "\n",
        "# Display the first few rows of the dataset\n",
        "print(df.head())\n",
        "print(df.columns)\n",
        "\n",
        "# Ensure columns are properly named\n",
        "df.columns = ['id', 'game', 'sentiment', 'text']\n",
        "\n",
        "# Preprocess text data\n",
        "nltk.download('stopwords')\n",
        "nltk.download('punkt')\n",
        "nltk.download('wordnet')\n",
        "\n",
        "stop_words = set(stopwords.words('english'))\n",
        "lemmatizer = WordNetLemmatizer()\n",
        "\n",
        "def preprocess_tweet(tweet):\n",
        "    # Handle non-string values\n",
        "    if not isinstance(tweet, str):\n",
        "        return \"\"\n",
        "\n",
        "    tweet = re.sub(r'http\\S+|www\\S+|https\\S+', '', tweet, flags=re.MULTILINE)\n",
        "    tweet = re.sub(r'\\@\\w+|\\#', '', tweet)\n",
        "    tweet_tokens = word_tokenize(tweet)\n",
        "    filtered_words = [lemmatizer.lemmatize(word) for word in tweet_tokens if word not in stop_words and word.isalnum()]\n",
        "    return \" \".join(filtered_words)\n",
        "\n",
        "# Apply preprocessing to the tweets\n",
        "df['processed_text'] = df['text'].apply(preprocess_tweet)\n",
        "\n",
        "# Extract sentiment scores\n",
        "analyzer = SentimentIntensityAnalyzer()\n",
        "\n",
        "def get_sentiment(tweet):\n",
        "    sentiment_dict = analyzer.polarity_scores(tweet)\n",
        "    return sentiment_dict['compound']\n",
        "\n",
        "# Apply sentiment analysis to the processed tweets\n",
        "df['sentiment_score'] = df['processed_text'].apply(get_sentiment)\n",
        "\n",
        "# Display a sample of processed text and their sentiment scores\n",
        "print(df[['processed_text', 'sentiment_score']].head())\n",
        "\n",
        "# Visualize sentiment distribution\n",
        "plt.figure(figsize=(12, 6))\n",
        "plt.hist(df['sentiment_score'], bins=50, color='blue', alpha=0.7)\n",
        "plt.xlabel('Sentiment Score')\n",
        "plt.ylabel('Frequency')\n",
        "plt.title('Sentiment Score Distribution')\n",
        "plt.show()\n",
        "\n",
        "# Review examples of positive, negative, and neutral sentiment tweets\n",
        "positive_examples = df[df['sentiment_score'] > 0.5][['processed_text', 'sentiment_score']]\n",
        "negative_examples = df[df['sentiment_score'] < -0.5][['processed_text', 'sentiment_score']]\n",
        "neutral_examples = df[(df['sentiment_score'] >= -0.1) & (df['sentiment_score'] <= 0.1)][['processed_text', 'sentiment_score']]\n",
        "\n",
        "print(\"\\nPositive examples:\\n\", positive_examples.head())\n",
        "print(\"\\nNegative examples:\\n\", negative_examples.head())\n",
        "print(\"\\nNeutral examples:\\n\", neutral_examples.head())\n"
      ]
    },
    {
      "cell_type": "code",
      "source": [
        "import pandas as pd\n",
        "import re\n",
        "from nltk.corpus import stopwords\n",
        "from nltk.tokenize import word_tokenize\n",
        "from nltk.stem import WordNetLemmatizer\n",
        "import nltk\n",
        "from vaderSentiment.vaderSentiment import SentimentIntensityAnalyzer\n",
        "import matplotlib.pyplot as plt\n",
        "\n",
        "# Load the dataset\n",
        "file_path = '/content/drive/MyDrive/Prodigy Datasets/Twitter /twitter_validation.csv'\n",
        "df = pd.read_csv(file_path)\n",
        "\n",
        "# Display the first few rows of the dataset\n",
        "print(df.head())\n",
        "print(df.columns)\n",
        "\n",
        "# Ensure columns are properly named\n",
        "df.columns = ['id', 'game', 'sentiment', 'text']\n",
        "\n",
        "# Preprocess text data\n",
        "nltk.download('stopwords')\n",
        "nltk.download('punkt')\n",
        "nltk.download('wordnet')\n",
        "\n",
        "stop_words = set(stopwords.words('english'))\n",
        "lemmatizer = WordNetLemmatizer()\n",
        "\n",
        "def preprocess_tweet(tweet):\n",
        "    # Handle non-string values\n",
        "    if not isinstance(tweet, str):\n",
        "        return \"\"\n",
        "\n",
        "    tweet = re.sub(r'http\\S+|www\\S+|https\\S+', '', tweet, flags=re.MULTILINE)\n",
        "    tweet = re.sub(r'\\@\\w+|\\#', '', tweet)\n",
        "    tweet_tokens = word_tokenize(tweet)\n",
        "    filtered_words = [lemmatizer.lemmatize(word) for word in tweet_tokens if word not in stop_words and word.isalnum()]\n",
        "    return \" \".join(filtered_words)\n",
        "\n",
        "# Apply preprocessing to the tweets\n",
        "df['processed_text'] = df['text'].apply(preprocess_tweet)\n",
        "\n",
        "# Extract sentiment scores\n",
        "analyzer = SentimentIntensityAnalyzer()\n",
        "\n",
        "def get_sentiment(tweet):\n",
        "    sentiment_dict = analyzer.polarity_scores(tweet)\n",
        "    return sentiment_dict['compound']\n",
        "\n",
        "# Apply sentiment analysis to the processed tweets\n",
        "df['sentiment_score'] = df['processed_text'].apply(get_sentiment)\n",
        "\n",
        "# Display a sample of processed text and their sentiment scores\n",
        "print(df[['processed_text', 'sentiment_score']].head())\n",
        "\n",
        "# Visualize sentiment distribution\n",
        "plt.figure(figsize=(12, 6))\n",
        "plt.hist(df['sentiment_score'], bins=50, color='green', alpha=0.7)\n",
        "plt.xlabel('Sentiment Score')\n",
        "plt.ylabel('Frequency')\n",
        "plt.title('Sentiment Score Distribution')\n",
        "plt.show()\n",
        "\n",
        "# Review examples of positive, negative, and neutral sentiment tweets\n",
        "positive_examples = df[df['sentiment_score'] > 0.5][['processed_text', 'sentiment_score']]\n",
        "negative_examples = df[df['sentiment_score'] < -0.5][['processed_text', 'sentiment_score']]\n",
        "neutral_examples = df[(df['sentiment_score'] >= -0.1) & (df['sentiment_score'] <= 0.1)][['processed_text', 'sentiment_score']]\n",
        "\n",
        "print(\"\\nPositive examples:\\n\", positive_examples.head())\n",
        "print(\"\\nNegative examples:\\n\", negative_examples.head())\n",
        "print(\"\\nNeutral examples:\\n\", neutral_examples.head())\n"
      ],
      "metadata": {
        "colab": {
          "base_uri": "https://localhost:8080/",
          "height": 1000
        },
        "id": "RpEyCdco0z9Z",
        "outputId": "f083ca23-bde3-4a37-ffdf-d9069ef022eb"
      },
      "execution_count": 15,
      "outputs": [
        {
          "output_type": "stream",
          "name": "stdout",
          "text": [
            "   3364   Facebook Irrelevant  \\\n",
            "0   352     Amazon    Neutral   \n",
            "1  8312  Microsoft   Negative   \n",
            "2  4371      CS-GO   Negative   \n",
            "3  4433     Google    Neutral   \n",
            "4  6273       FIFA   Negative   \n",
            "\n",
            "  I mentioned on Facebook that I was struggling for motivation to go for a run the other day, which has been translated by Tom’s great auntie as ‘Hayley can’t get out of bed’ and told to his grandma, who now thinks I’m a lazy, terrible person 🤣  \n",
            "0  BBC News - Amazon boss Jeff Bezos rejects clai...                                                                                                                                                                                                  \n",
            "1  @Microsoft Why do I pay for WORD when it funct...                                                                                                                                                                                                  \n",
            "2  CSGO matchmaking is so full of closet hacking,...                                                                                                                                                                                                  \n",
            "3  Now the President is slapping Americans in the...                                                                                                                                                                                                  \n",
            "4  Hi @EAHelp I’ve had Madeleine McCann in my cel...                                                                                                                                                                                                  \n",
            "Index(['3364', 'Facebook', 'Irrelevant',\n",
            "       'I mentioned on Facebook that I was struggling for motivation to go for a run the other day, which has been translated by Tom’s great auntie as ‘Hayley can’t get out of bed’ and told to his grandma, who now thinks I’m a lazy, terrible person 🤣'],\n",
            "      dtype='object')\n"
          ]
        },
        {
          "output_type": "stream",
          "name": "stderr",
          "text": [
            "[nltk_data] Downloading package stopwords to /root/nltk_data...\n",
            "[nltk_data]   Package stopwords is already up-to-date!\n",
            "[nltk_data] Downloading package punkt to /root/nltk_data...\n",
            "[nltk_data]   Package punkt is already up-to-date!\n",
            "[nltk_data] Downloading package wordnet to /root/nltk_data...\n",
            "[nltk_data]   Package wordnet is already up-to-date!\n"
          ]
        },
        {
          "output_type": "stream",
          "name": "stdout",
          "text": [
            "                                      processed_text  sentiment_score\n",
            "0  BBC News Amazon bos Jeff Bezos reject claim co...           0.1280\n",
            "1          Why I pay WORD function poorly Chromebook          -0.1027\n",
            "2  CSGO matchmaking full closet hacking truly awf...          -0.0258\n",
            "3  Now President slapping Americans face really c...           0.3597\n",
            "4  Hi I Madeleine McCann cellar past 13 year litt...           0.7178\n"
          ]
        },
        {
          "output_type": "display_data",
          "data": {
            "text/plain": [
              "<Figure size 1200x600 with 1 Axes>"
            ],
            "image/png": "[encoded data removed]"
          },
          "metadata": {}
        },
        {
          "output_type": "stream",
          "name": "stdout",
          "text": [
            "\n",
            "Positive examples:\n",
            "                                        processed_text  sentiment_score\n",
            "4   Hi I Madeleine McCann cellar past 13 year litt...           0.7178\n",
            "6   Rocket League Sea Thieves Rainbow Six I love p...           0.7845\n",
            "7   as still Assassins Creed Odyssey way anytime s...           0.5994\n",
            "9   The professional dota 2 scene fucking explodin...           0.5095\n",
            "15                                           yeah fun           0.6705\n",
            "\n",
            "Negative examples:\n",
            "                                        processed_text  sentiment_score\n",
            "8   FIX IT JESUS Please FIX IT What In world going...          -0.6249\n",
            "16                                          fuck life          -0.5423\n",
            "17  happy birthday red dead redemption shit change...          -0.7650\n",
            "23                           Umm I died said Bug This          -0.5574\n",
            "33   Fortnite running like as fps drop everywhere wtf          -0.5267\n",
            "\n",
            "Neutral examples:\n",
            "                                        processed_text  sentiment_score\n",
            "2   CSGO matchmaking full closet hacking truly awf...          -0.0258\n",
            "10  Itching assassinate TCCGif AssassinsCreedBlack...           0.0000\n",
            "18  What say Microsoft hardware software security ...          -0.0772\n",
            "30  I see look like Xbox controller say anything A...           0.0258\n",
            "32                 The thing I would 3090 unspeakable           0.0000\n"
          ]
        }
      ]
    }
  ]
}